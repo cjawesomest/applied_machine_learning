{
 "metadata": {
  "language_info": {
   "codemirror_mode": {
    "name": "ipython",
    "version": 3
   },
   "file_extension": ".py",
   "mimetype": "text/x-python",
   "name": "python",
   "nbconvert_exporter": "python",
   "pygments_lexer": "ipython3",
   "version": "3.9.1-final"
  },
  "orig_nbformat": 2,
  "kernelspec": {
   "name": "python3",
   "display_name": "Python 3",
   "language": "python"
  }
 },
 "nbformat": 4,
 "nbformat_minor": 2,
 "cells": [
  {
   "cell_type": "code",
   "execution_count": 3,
   "metadata": {},
   "outputs": [
    {
     "output_type": "error",
     "ename": "SyntaxError",
     "evalue": "invalid syntax (<ipython-input-3-8dc279275430>, line 15)",
     "traceback": [
      "\u001b[1;36m  File \u001b[1;32m\"<ipython-input-3-8dc279275430>\"\u001b[1;36m, line \u001b[1;32m15\u001b[0m\n\u001b[1;33m    print(\"And, of course, how many labels? \"+str(data_labels.shape)\u001b[0m\n\u001b[1;37m    ^\u001b[0m\n\u001b[1;31mSyntaxError\u001b[0m\u001b[1;31m:\u001b[0m invalid syntax\n"
     ]
    }
   ],
   "source": [
    "#Import our data first using Pandas and Pickle\n",
    "import os\n",
    "import pandas\n",
    "\n",
    "def load_data():\n",
    "    DATA_NAME = \"appml-assignment1-dataset.pkl\"\n",
    "    REF_DIR = \"ref\"\n",
    "    data_path = os.path.join(\".\", REF_DIR, DATA_NAME)\n",
    "    with open(data_path, \"rb\") as data_in:\n",
    "        data = pandas.read_pickle(data_in)\n",
    "    return [data['X'], data['y']]\n",
    "\n",
    "[data_features, data_labels] = load_data()\n",
    "print(\"What's the size of our feature set?: \"+str(data_features.shape))\n",
    "print(\"And, of course, how many labels? \"+str(data_labels.shape))"
   ]
  },
  {
   "cell_type": "code",
   "execution_count": null,
   "metadata": {},
   "outputs": [],
   "source": []
  }
 ]
}