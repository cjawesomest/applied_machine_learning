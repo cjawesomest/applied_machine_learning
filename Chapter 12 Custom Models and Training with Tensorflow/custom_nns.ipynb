{
 "metadata": {
  "language_info": {
   "codemirror_mode": {
    "name": "ipython",
    "version": 3
   },
   "file_extension": ".py",
   "mimetype": "text/x-python",
   "name": "python",
   "nbconvert_exporter": "python",
   "pygments_lexer": "ipython3",
   "version": "3.8.0-final"
  },
  "orig_nbformat": 2,
  "kernelspec": {
   "name": "python3",
   "display_name": "Python 3",
   "language": "python"
  }
 },
 "nbformat": 4,
 "nbformat_minor": 2,
 "cells": [
  {
   "cell_type": "code",
   "execution_count": 3,
   "metadata": {},
   "outputs": [
    {
     "output_type": "stream",
     "name": "stdout",
     "text": [
      "Tensor Matrix: \n\ttf.Tensor(\n[[1. 2. 3.]\n [4. 5. 6.]], shape=(2, 3), dtype=float32)\nTensor Scalar: \n\ttf.Tensor(66, shape=(), dtype=int32)\n"
     ]
    }
   ],
   "source": [
    "#Creating our own tensors (multidimensional arrays)\n",
    "import tensorflow as tf\n",
    "\n",
    "tensor_matrix = tf.constant([[1., 2., 3.], [4., 5., 6.]])\n",
    "tensor_scalar = tf.constant(66)\n",
    "print(\"Tensor Matrix: \\n\"+str(tensor_matrix))\n",
    "print(\"Tensor Scalar: \\n\"+str(tensor_scalar))"
   ]
  }
 ]
}